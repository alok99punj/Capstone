{
  "nbformat": 4,
  "nbformat_minor": 0,
  "metadata": {
    "colab": {
      "provenance": []
    },
    "kernelspec": {
      "name": "python3",
      "display_name": "Python 3"
    },
    "language_info": {
      "name": "python"
    }
  },
  "cells": [
    {
      "cell_type": "code",
      "execution_count": 91,
      "metadata": {
        "id": "1zcRJTsdVecD"
      },
      "outputs": [],
      "source": [
        "#### Explanation of the environment made for repositioning of e-bikes in a dock based bike sharing service based out of Bangalore\n",
        "#### The e-bikes are repositioned in a proactive way, the e-bikes are repositioned to maintain the balance between supply and demand of bikes in a station\n",
        "#### The e-bikes are repositioned using trucks ( having a capacity of 20 bikes), the capacity of each station considered is 30 bikes each\n",
        "#### the stattion acts as an agent in this environment\n",
        "#### the state vector of the env contains the following - the bikes at each station  , the pickup and dropoff vectors and the charge level of each bikes\n",
        "#### the size and shape of each vector is mentioned below\n",
        "####   ##Assumptions\n",
        "# 1. the capacity of the truck is 20\n",
        "# 2. the capacity of the station is 30\n",
        "# 3. the truck follows a fixed path in a round robbin fashion\n",
        "# 4. the truck completes one side fixed path trip in one time slot\n",
        "# 5. the truck is initially empty\n",
        "# 6. the station loads only 50% of its capacity into the truck\n",
        "# 7. the truck unloads bikes until the the station reaches 30 bikes\n",
        "# 8. 3-4 kW and 2-3 kW charge bikes are loaded to the truck first( if the requirement not met then low charge bikes uploaded)\n",
        "# 9. unloading is done in a similar manner by unloading the high charge ones first\n",
        "# 10. the bike vec has been considered for a time slot after removing the pickups and dropoffs of that particular station\n",
        "\n",
        "\n",
        "### the truck moves along a fixed path mentioned by the vector(num_b) which is constructed after taking into consideration the distance and time to complete a one way trip\n",
        "### rewards are based on the following-\n",
        "### if after repositioning the station has a balnced supply and demand then -> positive reward awarded\n",
        "### else -> negetive reward\n",
        "### if the charge levels of bikes( high + mid) = the number of pickups then positive reward awarded\n",
        "### else -> negetive\n",
        "### if a station calls a truck for loading bikes but fails to deliver then -> negetive reward\n",
        "### else -> positive\n",
        "### if a station calls a truck for unloading but fails to unload( happens when sattion has max bikes) then -> negetive reward awarded\n",
        "### else -> positive reward awarded\n",
        "\n"
      ]
    },
    {
      "cell_type": "code",
      "source": [
        "# importing necessary libraries\n",
        "import random\n",
        "import gym\n",
        "import pandas as pd\n",
        "import numpy as np"
      ],
      "metadata": {
        "id": "N82sjuMNVjyQ"
      },
      "execution_count": 92,
      "outputs": []
    },
    {
      "cell_type": "code",
      "source": [
        "#####   These declarations will be replaced by the dataset values #####\n",
        "\n",
        "### info on the shape of the variables declared below\n",
        "## num_b(x,y) -> x is the number of timeslots , y is the number of stations\n",
        "## charge_b(x,y,z) -> x is the number of timeslots, y is the number of stations and z is the number of vehicles at a charge level\n",
        "## pickup_b and dropoff_b -> similar to num_b"
      ],
      "metadata": {
        "id": "a8AtzqwMVlmF"
      },
      "execution_count": 93,
      "outputs": []
    },
    {
      "cell_type": "code",
      "source": [
        "num_b=np.array([10,15,12])#### initializing the array which contains the number of bikes at each of the 5 stations at any given point in time_slot(excluding the pickups and dropoffs)\n",
        "charge_b=np.array([[5,2,3],[15,0,0],[12,0,0]])\n",
        "pickup_b=np.array([5,20,1])\n",
        "dropoff_b=np.array([10,23,32])\n",
        "#### these declarations are for the 3 time slots of 30 min(say)"
      ],
      "metadata": {
        "id": "au4MLYTgVnUI"
      },
      "execution_count": 94,
      "outputs": []
    },
    {
      "cell_type": "code",
      "source": [
        "### verifying the shape of each array\n",
        "print(\"num_b\",num_b.shape)### the x-axis denotes the number of time slots and the y-axis denotes the number of stations\n",
        "print(\"charge_b\",charge_b.shape)### the x-axis denotes the number of time slots , the y - axis denotes the number of stations and the z - axis denotes teh number of bikes at the three different charge levels\n",
        "print(\"load_b\",pickup_b.shape)### the x axis denotes the number of time slots and the y - axis denotes the number of stations\n",
        "print(\"unload_b\",dropoff_b.shape)### the x- axis denotes the number of time slots and the y - axis denotes the number of stations\n",
        "\n",
        "#### note:: This declaration will be replaced with the dataset values which achal provides\n"
      ],
      "metadata": {
        "colab": {
          "base_uri": "https://localhost:8080/"
        },
        "id": "dSTD0ovYVpD_",
        "outputId": "5d6aecd3-a97f-41a3-c952-22afc7d88b26"
      },
      "execution_count": 95,
      "outputs": [
        {
          "output_type": "stream",
          "name": "stdout",
          "text": [
            "num_b (3,)\n",
            "charge_b (3, 3)\n",
            "load_b (3,)\n",
            "unload_b (3,)\n"
          ]
        }
      ]
    },
    {
      "cell_type": "code",
      "source": [
        "s_v=np.array([num_b,pickup_b,dropoff_b])### defining the state vector\n",
        "#print(s_v.shape)\n",
        "#### charge vector contains a different shape will be take care off individually\n",
        "##print(s_v)\n",
        "#arr=[[11,1,3],[12,3,1],[13,23,1]]\n",
        "print(s_v)## station number and then charge level is denoted by j\n",
        "print(s_v[0][1])"
      ],
      "metadata": {
        "colab": {
          "base_uri": "https://localhost:8080/"
        },
        "id": "22ZEg_7AVrJi",
        "outputId": "13858c67-55b3-4498-e1d3-c822a20b352b"
      },
      "execution_count": 96,
      "outputs": [
        {
          "output_type": "stream",
          "name": "stdout",
          "text": [
            "[[10 15 12]\n",
            " [ 5 20  1]\n",
            " [10 23 32]]\n",
            "15\n"
          ]
        }
      ]
    },
    {
      "cell_type": "code",
      "source": [
        "class Bike_rep_env:\n",
        "    def __init__(self,num_b,charge_b,pickup_b,dropoff_b,s_v):\n",
        "        self.num_b=num_b\n",
        "        self.charge_b=charge_b\n",
        "        self.pickup_b=pickup_b\n",
        "        self.dropoff_b=dropoff_b\n",
        "        self.total_reward=0\n",
        "        self.action_history=[]\n",
        "        self.total_timeslots=0\n",
        "        self.s_v=s_v\n",
        "        self.timeslots=3\n",
        "        self.initial=s_v## preserving the initial state\n",
        "        self.initial_charge=charge_b ## preserving the initial charge state\n",
        "    ##Assumptions\n",
        "# 1. the capacity of the truck is 20\n",
        "# 2. the capacity of the station is 30\n",
        "# 3. the truck follows a fixed path in a round robbin fashion\n",
        "# 4. the truck completes one side fixed path trip in one time slot\n",
        "# 5. the truck is initially empty\n",
        "# 6. the station loads only 50% of its capacity into the truck\n",
        "# 7. the truck unloads bikes until the the station reaches 30 bikes\n",
        "# 8. 3-4 kW and 2-3 kW charge bikes are loaded to the truck first( if the requirement not met then low charge bikes uploaded)\n",
        "# 9. unloading is done in a similar manner by unloading the high charge ones first\n",
        "# 10. the bike vec has been considered for a time slot after removing the pickups and dropoffs of that particular station\n",
        "\n",
        "\n",
        "\n",
        "\n",
        "    def nextState(self,action,truck,truck_charge,flag):\n",
        "\n",
        "\n",
        "           # print(truck_charge)\n",
        "                #print(truck)\n",
        "\n",
        "\n",
        "                if action<0: ### action of loading bikes into the truck\n",
        "                    if (int(self.s_v[0][self.total_timeslots]))>=abs(action) and (truck+ action <=20):\n",
        "                        truck=truck+abs(action)    ### updating the truck after the load action\n",
        "                        self.s_v[0][self.total_timeslots+1]=self.s_v[0][self.total_timeslots]+action ## updating the state vector after the load action\n",
        "                        ### update the charge levels of bikes in the station and the truck\n",
        "                        num=abs(action)\n",
        "                        u=0\n",
        "                        truck_charge=self.charge_vec_update(truck_charge,action,num,0,u)\n",
        "                    else:\n",
        "                        flag=True\n",
        "                if action >= 0:\n",
        "                    if ((truck - action) >=0 and self.s_v[0][self.total_timeslots] + action<=30):\n",
        "                        self.s_v[0][self.total_timeslots+1]=self.s_v[0][self.total_timeslots]+action## updating the station after the unload operation\n",
        "                        truck = truck - action ### updating the truck after the unload operation\n",
        "                        #### updating the charge levels of the truck and the station after the unload operation\n",
        "                        num=truck\n",
        "                        u=0\n",
        "                        truck_charge=self.charge_vec_update(truck_charge,action,num,0,u)\n",
        "                    elif(self.s_v[0][self.total_timeslots]+action>30):\n",
        "                        self.s_v[0][self.total_timeslots+1]=30    ## updating the state vector after an unload operation\n",
        "                        truck=truck-(30-self.s_v[0][self.total_timeslots]) ## updating the truck after the unload operation\n",
        "                        num=30-self.s_v[0][self.total_timeslots]\n",
        "                        u=1\n",
        "                        truck_charge=self.charge_vec_update(truck_charge,action,num,0,u)\n",
        "                    else:\n",
        "                        flag=True\n",
        "\n",
        "\n",
        "\n",
        "\n",
        "                return self.s_v,truck,truck_charge,flag    ### this function returns the the updated state vector and the the updated truck value\n",
        "\n",
        "\n",
        "    def charge_vec_update(self,truck_charge,sta_action,num,sta_num,u):\n",
        "\n",
        "        if sta_action <0:\n",
        "            if(num<=self.charge_b[self.total_timeslots][0]):### checking for high charge\n",
        "                self.charge_b[self.total_timeslots+1][0]=self.charge_b[self.total_timeslots][0]-num\n",
        "                truck_charge[0]=truck_charge[0]+num\n",
        "\n",
        "\n",
        "            if(num>self.charge_b[self.total_timeslots][0]):\n",
        "                self.charge_b[self.total_timeslots+1][0]=0\n",
        "                truck_charge[0]=truck_charge[0]+self.charge_b[self.total_timeslots][0]\n",
        "                change=num-self.charge_b[self.total_timeslots][0]\n",
        "            #print(change)\n",
        "                if(change<=self.charge_b[self.total_timeslots][1]):\n",
        "                    self.charge_b[self.total_timeslots+1][1]=self.charge_b[self.total_timeslots][1]-change\n",
        "\n",
        "                    truck_charge[1]=truck_charge[1]+change\n",
        "\n",
        "                if(change>self.charge_b[self.total_timeslots][1]):\n",
        "                    self.charge_b[self.total_timeslots+1][1]=0\n",
        "                    truck_charge[1]=truck_charge[1]+self.charge_b[self.total_timeslots][1]\n",
        "\n",
        "                    change2=change-self.charge_b[self.total_timeslots][1]\n",
        "                    if(change2>0):\n",
        "                        truck_charge[2]=truck_charge[2]+change2\n",
        "                        if(change2> self.charge_b[self.total_timeslots][2]):\n",
        "                            self.charge_b[self.total_timeslots+1][2]=change2-self.charge_b[self.total_timeslots][2]\n",
        "                        else:\n",
        "                            self.charge_b[self.total_timeslots+1][2]=self.charge_b[self.total_timeslots][2]-change2\n",
        "                    else:\n",
        "                        self.charge_b[self.total_timeslots+1][2]=self.charge_b[self.total_timeslots][2]\n",
        "        if sta_action>=0:\n",
        "\n",
        "        #### put a condition in the code to check if the charge vector of the station  is less than 30 after adding bikes after a unload\n",
        "\n",
        "\n",
        "                if(num<=truck_charge[0]):\n",
        "                    truck_charge[0]=truck_charge[0]-num\n",
        "                    self.charge_b[self.total_timeslots+1][0]=self.charge_b[self.total_timeslots][0]+num\n",
        "\n",
        "                if(num>truck_charge[0]):\n",
        "\n",
        "                    self.charge_b[self.total_timeslots+1][0]=self.charge_b[self.total_timeslots][0]+truck_charge[0]\n",
        "                    diff=num-truck_charge[0]\n",
        "                    truck_charge[0]=0\n",
        "                    if(diff<truck_charge[1]):\n",
        "                        truck_charge[1]=0\n",
        "                        self.charge_b[self.total_timeslots+1][1]=self.charge_b[self.total_timeslots][1]+diff\n",
        "                    if(diff>truck_charge[1]):\n",
        "\n",
        "                        self.charge_b[self.total_timeslots+1][1]=self.charge_b[self.total_timeslots][1]+truck_charge[1]\n",
        "                        diff2=diff-truck_charge[1]\n",
        "                        truck_charge[1]=0\n",
        "                        if(diff2>0):\n",
        "                            self.charge_b[self.total_timeslots+1][2]=self.charge_b[self.total_timeslots][2]+diff\n",
        "                            truck_charge[2]=0\n",
        "\n",
        "\n",
        "\n",
        "\n",
        "\n",
        "        return truck_charge\n",
        "\n",
        "\n",
        "    def step(self,action,truck,truck_charge):\n",
        "        ### there are 3 actions considered -- the actions taken by the agent which is the station are as follows-- (No action ,load_bikes, unload_bikes)\n",
        "            # action 0 - No action\n",
        "            # action 1- load bikes into a truck\n",
        "            # action 2 - unload bikes from a truck\n",
        "            ## agent -- is a station\n",
        "            ### any action begins from  the time slot 1 onwards\n",
        "            self.action_history.append(action)## storing the actions taken in a particular time slot (array ds used to store action history)\n",
        "            ## action is a single dimensional array as it gives actions for each of the n stations simultaneously\n",
        "            ## counting the number of time slots executed\n",
        "            #self.total_timeslots+=1### this gives the current time slot on which the action is taken\n",
        "            info = None\n",
        "            flag=False\n",
        "\n",
        "            state,truck_,charge_,flag=self.nextState(action,truck,truck_charge,flag)## calling the next state function to update the state vector according to the action given to the step function\n",
        "            ### the length of the action, bike_vec and charge_vec for a given time slot is = number of stations\n",
        "            ## gives back the state vector which contains( number of bikes at each station, the total number of pickups and number of dropoffs) and the charge_b vector which contains the number of bikes at a particular stattion with certain charge level\n",
        "            if(self.total_timeslots<(self.timeslots-1)):\n",
        "                self.total_timeslots+=1\n",
        "            info =None\n",
        "            ## calculating the reward for actions taken for a particular time slot\n",
        "            ##considering the number of bikes in a station, wheather the demand of the station is met and the charge level of the bikes present in the station\n",
        "            reward=0\n",
        "            rew_arr=[]\n",
        "\n",
        "                ### checking if each station is balanced in the map\n",
        "            if(state[1][self.total_timeslots]<=(state[0][self.total_timeslots]+state[2][self.total_timeslots])):\n",
        "                    reward+=2## giving a positive reward for each balanced station after repositioning\n",
        "                    rew_arr.append(reward)\n",
        "            else:\n",
        "                    reward-=2\n",
        "                    rew_arr.append(reward)\n",
        "                ### considering the number of bikes having a charge level between high(3-4kW) and mid (1-2kW) should be equal to or greater than the pickups at that time slot\n",
        "            if(state[1][self.total_timeslots]<=(self.charge_b[self.total_timeslots][0]+self.charge_b[self.total_timeslots][1])):\n",
        "                    reward+=1\n",
        "                    rew_arr.append(reward)\n",
        "\n",
        "            else:\n",
        "                    reward-=1\n",
        "                    rew_arr.append(reward)\n",
        "\n",
        "                # if(flag==True):  ##### taking into consideration the bounce off of truck jab station mai bikes na ho during a load\n",
        "                #     reward-=1    ### and jab station full ho jaye tab during the unload\n",
        "                # if(flag==False):\n",
        "                #     reward+=1\n",
        "\n",
        "            self.total_reward+=reward ## updating the total reward to be accomplished at the end of x episodes\n",
        "\n",
        "            ## defining the done variable to end an episode for a number of time slots\n",
        "            s1=state[0][self.total_timeslots]\n",
        "            s2=state[1][self.total_timeslots]\n",
        "            s3 = state[2][self.total_timeslots]\n",
        "            state=[s1,s2,s3]\n",
        "            if(self.total_timeslots==(self.timeslots-1)):## the max timeslot for ending an episode\n",
        "                done=True\n",
        "                self.total_timeslots=0\n",
        "            else:\n",
        "                done=False\n",
        "\n",
        "\n",
        "            return state,reward,done,(truck_,charge_)\n",
        "\n",
        "\n",
        "\n",
        "\n",
        "    def reset(self):\n",
        "        initial_timeslot=random.randint(0,self.timeslots-1)## initializing the initial timeslot(done randomly for now)\n",
        "        self.action_history=[0]*(len(self.action_history))## setting the action_history vector to zero\n",
        "        self.total_reward=0 ## setting the total reward after an episode to zero\n",
        "        self.s_v=self.initial\n",
        "        self.charge_b=self.initial_charge\n",
        "        s1=self.initial[0][0]\n",
        "        s2=self.initial[1][0]\n",
        "        s3 = self.initial[2][0]\n",
        "        state=[s1,s2,s3]\n",
        "\n",
        "        return state,self.charge_b[0]### returning the original state vector and charge levels as present in the dataset\n",
        "\n",
        "\n",
        "    def seed(self,seed_value):\n",
        "      random.seed(seed_value)\n",
        "\n",
        "\n",
        "\n",
        "\n",
        "\n",
        "\n",
        "\n",
        "\n",
        "\n",
        "\n",
        "\n",
        "\n",
        "\n",
        "\n",
        "\n",
        "\n",
        "\n",
        "\n",
        "\n",
        "\n"
      ],
      "metadata": {
        "id": "R7Ora6QUVtHB"
      },
      "execution_count": 97,
      "outputs": []
    },
    {
      "cell_type": "code",
      "source": [
        "## calling the bike_rep_env with arandomized action pair\n",
        "### action size - 3 (0 -> No action,1 -> Load,2 -> unload)\n",
        "\n",
        "### creating an object for the class bike_rep_env\n",
        "\n",
        "\n",
        "env=Bike_rep_env(num_b,charge_b,pickup_b,dropoff_b,s_v)\n",
        "a_v=[]\n",
        "state , charge= env.reset()\n",
        "#init_state,init_charge=env.reset()## reset the env and the charge levels of the dataset\n",
        "#print(init_state,init_charge)\n",
        "action=[1,1,1,0,2]\n",
        "truck=0\n",
        "truck_charge=[0,0,0]\n",
        "total=0\n",
        "## executing the agent\n",
        "print(state)\n",
        "print(charge)"
      ],
      "metadata": {
        "colab": {
          "base_uri": "https://localhost:8080/"
        },
        "id": "nVphkP7hVvir",
        "outputId": "d01c9675-c00a-420c-fae6-dddfab349b44"
      },
      "execution_count": 98,
      "outputs": [
        {
          "output_type": "stream",
          "name": "stdout",
          "text": [
            "[10, 5, 10]\n",
            "[5 2 3]\n"
          ]
        }
      ]
    },
    {
      "cell_type": "code",
      "source": [
        "state,reward,done,truck_prop=env.step(-8,truck,truck_charge)\n",
        "truck_prop"
      ],
      "metadata": {
        "colab": {
          "base_uri": "https://localhost:8080/"
        },
        "id": "H9D5VLdIi71Z",
        "outputId": "57f24365-823d-4ea9-830a-81e229715831"
      },
      "execution_count": 99,
      "outputs": [
        {
          "output_type": "execute_result",
          "data": {
            "text/plain": [
              "(8, [5, 2, 1])"
            ]
          },
          "metadata": {},
          "execution_count": 99
        }
      ]
    },
    {
      "cell_type": "code",
      "source": [
        "k=1\n",
        "for j in range(10):\n",
        "    while(True):\n",
        "\n",
        "\n",
        "            action=random.randint(-20,30)### generating random actions for a particular timeslot\n",
        "            state,reward,done,truck_prop=env.step(action,truck,truck_charge)\n",
        "            #print(state)\n",
        "            total+=reward\n",
        "\n",
        "\n",
        "\n",
        "            if done:\n",
        "                break\n",
        "\n",
        "    print(\"Episode\",k,\"Reward\",total)\n",
        "    total=0\n",
        "    k+=1"
      ],
      "metadata": {
        "colab": {
          "base_uri": "https://localhost:8080/"
        },
        "id": "a-0KK1LDVxqp",
        "outputId": "e4b1e9c3-80ab-490f-9dc4-605bd339734c"
      },
      "execution_count": 100,
      "outputs": [
        {
          "output_type": "stream",
          "name": "stdout",
          "text": [
            "Episode 1 Reward 3\n",
            "Episode 2 Reward 4\n",
            "Episode 3 Reward 4\n",
            "Episode 4 Reward 4\n",
            "Episode 5 Reward 4\n",
            "Episode 6 Reward 4\n",
            "Episode 7 Reward 4\n",
            "Episode 8 Reward 4\n",
            "Episode 9 Reward 4\n",
            "Episode 10 Reward 4\n"
          ]
        }
      ]
    },
    {
      "cell_type": "code",
      "source": [],
      "metadata": {
        "id": "KPVwkakbif-8"
      },
      "execution_count": 100,
      "outputs": []
    }
  ]
}